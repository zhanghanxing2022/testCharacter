{
 "cells": [
  {
   "cell_type": "code",
   "execution_count": 70,
   "metadata": {},
   "outputs": [],
   "source": [
    "from VPython.Layer import Tensor, Convolution2D, Flatten, Dense, MaxPooling2D\n",
    "from VPython.NetWork import *\n",
    "import numpy as np\n",
    "from VPython.Activator import *\n"
   ]
  },
  {
   "cell_type": "code",
   "execution_count": 71,
   "metadata": {},
   "outputs": [
    {
     "name": "stdout",
     "output_type": "stream",
     "text": [
      "9\n"
     ]
    }
   ],
   "source": [
    "import numpy as np\n",
    "def myRead(filename):\n",
    "    with open(filename, 'r') as file:\n",
    "        lines = file.readlines()\n",
    "\n",
    "    matrices = []\n",
    "    matrix_row = []\n",
    "\n",
    "    for line in lines:\n",
    "        # 将逗号分隔的数字转换为整数并组成矩阵行\n",
    "        if len(line)>1:\n",
    "            row = list(map(int, line.strip()[1:-2].split(',')))\n",
    "            matrix_row.extend(row)\n",
    "        else :\n",
    "            matrices.append(matrix_row)\n",
    "            matrix_row = []\n",
    "\n",
    "    matrices.append(matrix_row)\n",
    "    matrix_row = []\n",
    "    # 将矩阵转换为NumPy数组\n",
    "    matrices_array = np.array(matrices)\n",
    "    return matrices_array\n",
    "\n",
    "myX= myRead(\"testcase.txt\")\n",
    "print(len(myX))"
   ]
  },
  {
   "cell_type": "code",
   "execution_count": 72,
   "metadata": {},
   "outputs": [
    {
     "name": "stdout",
     "output_type": "stream",
     "text": [
      "['切', '问', '用', '由', '志', '志', '笃', '近', '近']\n",
      "['切', '问', '用', '由', '笃', '学', '笃', '无', '无']\n",
      "['切', '问', '用', '由', '笃', '学', '笃', '学', '学']\n",
      "['切', '问', '用', '由', '笃', '学', '笃', '学', '学']\n"
     ]
    }
   ],
   "source": [
    "annotations='博学笃志切问近思自由无用'\n",
    "annotations=list(annotations)\n",
    "\n",
    "def myOut(model,xx):\n",
    "    res =[]\n",
    "    for x in xx:\n",
    "        res.append(annotations[np.argmax( model.predict(x))])\n",
    "    return res\n",
    "model2 = Model()\n",
    "model2.load_model(\"model/characterDNNL22newest15.hdf5\")\n",
    "print( myOut(model2,myX))\n",
    "def myOut2(model,xx):\n",
    "    res =[]\n",
    "    for x in xx:\n",
    "        res.append(annotations[np.argmax( model.predict(x.reshape(28,28)))])\n",
    "    return res\n",
    "modelcnn = Model()\n",
    "modelcnn.load_model(\"./model/character2newest_epoach5.hdf5\")\n",
    "print(myOut2(modelcnn,myX))\n",
    "\n",
    "modelcnn2 = Model()\n",
    "modelcnn2.load_model(\"./model/character3newest_10.hdf5\")\n",
    "print(myOut2(modelcnn2,myX))\n",
    "modelcnn2 = Model()\n",
    "modelcnn2.load_model(\"./model/character3newest_9.hdf5\")\n",
    "print(myOut2(modelcnn2,myX))\n",
    "modelcnn2 = Model()\n",
    "modelcnn2.load_model(\"./model/character3newest_13.hdf5\")\n",
    "print(myOut2(modelcnn2,myX))\n",
    "modelcnn2 = Model()\n",
    "modelcnn2.load_model(\"./model/character3newest.hdf5\")\n",
    "print(myOut2(modelcnn2,myX))"
   ]
  }
 ],
 "metadata": {
  "kernelspec": {
   "display_name": "base",
   "language": "python",
   "name": "python3"
  },
  "language_info": {
   "codemirror_mode": {
    "name": "ipython",
    "version": 3
   },
   "file_extension": ".py",
   "mimetype": "text/x-python",
   "name": "python",
   "nbconvert_exporter": "python",
   "pygments_lexer": "ipython3",
   "version": "3.10.8"
  },
  "orig_nbformat": 4
 },
 "nbformat": 4,
 "nbformat_minor": 2
}
